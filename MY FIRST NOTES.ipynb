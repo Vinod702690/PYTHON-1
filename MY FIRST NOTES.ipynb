{
 "cells": [
  {
   "cell_type": "code",
   "execution_count": 1,
   "id": "ecec2541-4db6-410a-988e-b6e4985ad16a",
   "metadata": {},
   "outputs": [
    {
     "name": "stdout",
     "output_type": "stream",
     "text": [
      "hello world\n"
     ]
    }
   ],
   "source": [
    "print(\"hello world\")"
   ]
  },
  {
   "cell_type": "code",
   "execution_count": 2,
   "id": "a8d6c0c1-cbbe-4dba-95ee-93a8fdfd45bf",
   "metadata": {},
   "outputs": [
    {
     "name": "stdout",
     "output_type": "stream",
     "text": [
      "7\n"
     ]
    }
   ],
   "source": [
    "print(3+4)"
   ]
  },
  {
   "cell_type": "code",
   "execution_count": 3,
   "id": "8fd7b471-b35f-4bfb-9c21-e2765f07391f",
   "metadata": {},
   "outputs": [
    {
     "name": "stdout",
     "output_type": "stream",
     "text": [
      "216\n"
     ]
    }
   ],
   "source": [
    "print(3*8*9)"
   ]
  },
  {
   "cell_type": "code",
   "execution_count": 1,
   "id": "81307938-310f-4e98-bad3-1ab874214709",
   "metadata": {},
   "outputs": [
    {
     "name": "stdout",
     "output_type": "stream",
     "text": [
      "2\n"
     ]
    }
   ],
   "source": [
    "print(78-76)"
   ]
  },
  {
   "cell_type": "code",
   "execution_count": 2,
   "id": "ee9f2998-fc30-466e-9cf7-1457935a751c",
   "metadata": {},
   "outputs": [
    {
     "data": {
      "text/plain": [
       "0.9743589743589743"
      ]
     },
     "execution_count": 2,
     "metadata": {},
     "output_type": "execute_result"
    }
   ],
   "source": [
    "76/78"
   ]
  },
  {
   "cell_type": "code",
   "execution_count": 4,
   "id": "552ca901-2ed2-4ff7-8b9a-87cdc4cd0496",
   "metadata": {},
   "outputs": [
    {
     "name": "stdout",
     "output_type": "stream",
     "text": [
      "Big Python\n"
     ]
    }
   ],
   "source": [
    "print(\"Big Python\")"
   ]
  },
  {
   "cell_type": "code",
   "execution_count": 5,
   "id": "4d907477-a8e9-4b4d-9fe8-9df7b8eabe06",
   "metadata": {},
   "outputs": [
    {
     "data": {
      "text/plain": [
       "int"
      ]
     },
     "execution_count": 5,
     "metadata": {},
     "output_type": "execute_result"
    }
   ],
   "source": [
    "type(54)"
   ]
  },
  {
   "cell_type": "code",
   "execution_count": 6,
   "id": "6c42b837-3e7d-4a0b-8c50-1c15a8b2095c",
   "metadata": {},
   "outputs": [
    {
     "data": {
      "text/plain": [
       "str"
      ]
     },
     "execution_count": 6,
     "metadata": {},
     "output_type": "execute_result"
    }
   ],
   "source": [
    "type(\"a string\")"
   ]
  },
  {
   "cell_type": "code",
   "execution_count": 7,
   "id": "de6d0893-d9fb-4622-9dd0-5441d50a0781",
   "metadata": {},
   "outputs": [
    {
     "data": {
      "text/plain": [
       "float"
      ]
     },
     "execution_count": 7,
     "metadata": {},
     "output_type": "execute_result"
    }
   ],
   "source": [
    "type(54.3)"
   ]
  },
  {
   "cell_type": "code",
   "execution_count": 8,
   "id": "c62e6dac-7093-4965-be86-af0dab81ffbf",
   "metadata": {},
   "outputs": [
    {
     "data": {
      "text/plain": [
       "str"
      ]
     },
     "execution_count": 8,
     "metadata": {},
     "output_type": "execute_result"
    }
   ],
   "source": [
    "type(\"false\")"
   ]
  },
  {
   "cell_type": "code",
   "execution_count": 14,
   "id": "7597cf2e-8988-4648-98ac-53559629d275",
   "metadata": {},
   "outputs": [
    {
     "data": {
      "text/plain": [
       "complex"
      ]
     },
     "execution_count": 14,
     "metadata": {},
     "output_type": "execute_result"
    }
   ],
   "source": [
    "type(6j)"
   ]
  },
  {
   "cell_type": "code",
   "execution_count": 15,
   "id": "3b4492c7-71f2-47f5-bcd1-d852f7b1d2d7",
   "metadata": {},
   "outputs": [
    {
     "data": {
      "text/plain": [
       "0"
      ]
     },
     "execution_count": 15,
     "metadata": {},
     "output_type": "execute_result"
    }
   ],
   "source": [
    "5//7"
   ]
  },
  {
   "cell_type": "code",
   "execution_count": 16,
   "id": "bc54e1f2-d136-4658-868f-68edd872a8d4",
   "metadata": {},
   "outputs": [
    {
     "data": {
      "text/plain": [
       "0.7142857142857143"
      ]
     },
     "execution_count": 16,
     "metadata": {},
     "output_type": "execute_result"
    }
   ],
   "source": [
    "5/7"
   ]
  },
  {
   "cell_type": "code",
   "execution_count": 17,
   "id": "04055392-f6c2-4ea4-8a18-3f2cbd345f1e",
   "metadata": {},
   "outputs": [
    {
     "data": {
      "text/plain": [
       "3.0"
      ]
     },
     "execution_count": 17,
     "metadata": {},
     "output_type": "execute_result"
    }
   ],
   "source": [
    "6/2"
   ]
  },
  {
   "cell_type": "code",
   "execution_count": 18,
   "id": "2afa3d66-bd1b-424f-8d60-3730283cab37",
   "metadata": {},
   "outputs": [
    {
     "data": {
      "text/plain": [
       "3"
      ]
     },
     "execution_count": 18,
     "metadata": {},
     "output_type": "execute_result"
    }
   ],
   "source": [
    "6//2"
   ]
  },
  {
   "cell_type": "code",
   "execution_count": 19,
   "id": "93bdfed0-45cd-4f02-9276-e1f374fa5527",
   "metadata": {},
   "outputs": [
    {
     "data": {
      "text/plain": [
       "484"
      ]
     },
     "execution_count": 19,
     "metadata": {},
     "output_type": "execute_result"
    }
   ],
   "source": [
    "22**2"
   ]
  },
  {
   "cell_type": "code",
   "execution_count": 20,
   "id": "cb393f22-593e-4ed2-91e8-87cbcee8a1ca",
   "metadata": {},
   "outputs": [
    {
     "name": "stdout",
     "output_type": "stream",
     "text": [
      "String in single quotes\n",
      "String in double quotes\n"
     ]
    }
   ],
   "source": [
    "s1 = 'String in single quotes'\n",
    "s2 = \"String in double quotes\"\n",
    "'hello everyone'\n",
    "\"hello everyone\"\n",
    "print(s1)\n",
    "print(s2)"
   ]
  },
  {
   "cell_type": "code",
   "execution_count": 21,
   "id": "1599b9a6-5925-4d6c-852d-bd799037cd65",
   "metadata": {},
   "outputs": [
    {
     "data": {
      "text/plain": [
       "False"
      ]
     },
     "execution_count": 21,
     "metadata": {},
     "output_type": "execute_result"
    }
   ],
   "source": [
    ">>> s = \"A bite of python\"\n",
    ">>> s.isalnum() "
   ]
  },
  {
   "cell_type": "code",
   "execution_count": 22,
   "id": "db1d66a4-8bb8-4f81-ad44-1f782c25888a",
   "metadata": {},
   "outputs": [
    {
     "data": {
      "text/plain": [
       "True"
      ]
     },
     "execution_count": 22,
     "metadata": {},
     "output_type": "execute_result"
    }
   ],
   "source": [
    ">>> \"123\".isalnum()"
   ]
  },
  {
   "cell_type": "code",
   "execution_count": 23,
   "id": "65c33996-6c38-4e05-813c-13cdb3c06340",
   "metadata": {},
   "outputs": [
    {
     "data": {
      "text/plain": [
       "True"
      ]
     },
     "execution_count": 23,
     "metadata": {},
     "output_type": "execute_result"
    }
   ],
   "source": [
    ">>> \"abc\".isalnum()"
   ]
  },
  {
   "cell_type": "code",
   "execution_count": 24,
   "id": "04ece4ec-4a05-428f-b780-89cf22b646be",
   "metadata": {},
   "outputs": [
    {
     "data": {
      "text/plain": [
       "True"
      ]
     },
     "execution_count": 24,
     "metadata": {},
     "output_type": "execute_result"
    }
   ],
   "source": [
    ">>> \"abc123\".isalnum()"
   ]
  },
  {
   "cell_type": "code",
   "execution_count": null,
   "id": "a5d1e1c9-d160-402d-94a4-06df7a9551fe",
   "metadata": {},
   "outputs": [],
   "source": []
  }
 ],
 "metadata": {
  "kernelspec": {
   "display_name": "Python 3 (ipykernel)",
   "language": "python",
   "name": "python3"
  },
  "language_info": {
   "codemirror_mode": {
    "name": "ipython",
    "version": 3
   },
   "file_extension": ".py",
   "mimetype": "text/x-python",
   "name": "python",
   "nbconvert_exporter": "python",
   "pygments_lexer": "ipython3",
   "version": "3.12.3"
  }
 },
 "nbformat": 4,
 "nbformat_minor": 5
}
